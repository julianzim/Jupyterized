{
 "cells": [
  {
   "cell_type": "code",
   "execution_count": 64,
   "id": "7e26c384",
   "metadata": {},
   "outputs": [
    {
     "data": {
      "text/html": [
       "<div>\n",
       "<style scoped>\n",
       "    .dataframe tbody tr th:only-of-type {\n",
       "        vertical-align: middle;\n",
       "    }\n",
       "\n",
       "    .dataframe tbody tr th {\n",
       "        vertical-align: top;\n",
       "    }\n",
       "\n",
       "    .dataframe thead th {\n",
       "        text-align: right;\n",
       "    }\n",
       "</style>\n",
       "<table border=\"1\" class=\"dataframe\">\n",
       "  <thead>\n",
       "    <tr style=\"text-align: right;\">\n",
       "      <th></th>\n",
       "      <th>eventID</th>\n",
       "      <th>Person_1</th>\n",
       "      <th>Person_2</th>\n",
       "    </tr>\n",
       "  </thead>\n",
       "  <tbody>\n",
       "    <tr>\n",
       "      <th>0</th>\n",
       "      <td>189</td>\n",
       "      <td>Галчевская Карина Владимировна</td>\n",
       "      <td>Белоновская Анастасия Семеновна</td>\n",
       "    </tr>\n",
       "    <tr>\n",
       "      <th>1</th>\n",
       "      <td>206</td>\n",
       "      <td>Офицеров Олег Романович</td>\n",
       "      <td>Сапожник Борис Валерьевич</td>\n",
       "    </tr>\n",
       "    <tr>\n",
       "      <th>2</th>\n",
       "      <td>445</td>\n",
       "      <td>Жандарова Лариса Германовна</td>\n",
       "      <td>Чемодуров Дамир Русланович</td>\n",
       "    </tr>\n",
       "    <tr>\n",
       "      <th>3</th>\n",
       "      <td>503</td>\n",
       "      <td>Масимова Яна Дамировна</td>\n",
       "      <td>Мингажетдинов Рамиль Семенович</td>\n",
       "    </tr>\n",
       "    <tr>\n",
       "      <th>4</th>\n",
       "      <td>571</td>\n",
       "      <td>Мухтарова Алена Яковлевна</td>\n",
       "      <td>Щербатенко Ольга Робертовна</td>\n",
       "    </tr>\n",
       "  </tbody>\n",
       "</table>\n",
       "</div>"
      ],
      "text/plain": [
       "   eventID                        Person_1                         Person_2\n",
       "0      189  Галчевская Карина Владимировна  Белоновская Анастасия Семеновна\n",
       "1      206         Офицеров Олег Романович        Сапожник Борис Валерьевич\n",
       "2      445     Жандарова Лариса Германовна       Чемодуров Дамир Русланович\n",
       "3      503          Масимова Яна Дамировна   Мингажетдинов Рамиль Семенович\n",
       "4      571       Мухтарова Алена Яковлевна      Щербатенко Ольга Робертовна"
      ]
     },
     "execution_count": 64,
     "metadata": {},
     "output_type": "execute_result"
    }
   ],
   "source": [
    "import pandas as pd\n",
    "\n",
    "data = pd.read_csv('data_test.csv', sep=';')\n",
    "data.columns = ['eventID', 'Person_1', 'Person_2']\n",
    "data.head()"
   ]
  },
  {
   "cell_type": "code",
   "execution_count": 59,
   "id": "1af71b10",
   "metadata": {},
   "outputs": [
    {
     "data": {
      "text/plain": [
       "30"
      ]
     },
     "execution_count": 59,
     "metadata": {},
     "output_type": "execute_result"
    }
   ],
   "source": [
    "data.duplicated(subset=['eventID'], keep=False).sum()"
   ]
  },
  {
   "cell_type": "code",
   "execution_count": 69,
   "id": "68edf97d",
   "metadata": {},
   "outputs": [
    {
     "data": {
      "text/html": [
       "<div>\n",
       "<style scoped>\n",
       "    .dataframe tbody tr th:only-of-type {\n",
       "        vertical-align: middle;\n",
       "    }\n",
       "\n",
       "    .dataframe tbody tr th {\n",
       "        vertical-align: top;\n",
       "    }\n",
       "\n",
       "    .dataframe thead th {\n",
       "        text-align: right;\n",
       "    }\n",
       "</style>\n",
       "<table border=\"1\" class=\"dataframe\">\n",
       "  <thead>\n",
       "    <tr style=\"text-align: right;\">\n",
       "      <th></th>\n",
       "      <th>eventID</th>\n",
       "      <th>Person_1</th>\n",
       "      <th>Person_2</th>\n",
       "    </tr>\n",
       "  </thead>\n",
       "  <tbody>\n",
       "    <tr>\n",
       "      <th>366</th>\n",
       "      <td>70049</td>\n",
       "      <td>Яшина Полина Евгеньевна</td>\n",
       "      <td>Герасимовская Ксения Дамировна</td>\n",
       "    </tr>\n",
       "    <tr>\n",
       "      <th>367</th>\n",
       "      <td>70049</td>\n",
       "      <td>Федова Анжелика Вадимовна</td>\n",
       "      <td>Вальдовский Альберт Ефимович</td>\n",
       "    </tr>\n",
       "    <tr>\n",
       "      <th>486</th>\n",
       "      <td>92995</td>\n",
       "      <td>Журик Альберт Евгеньевич</td>\n",
       "      <td>Бадьянова Римма Максимовна</td>\n",
       "    </tr>\n",
       "    <tr>\n",
       "      <th>487</th>\n",
       "      <td>92995</td>\n",
       "      <td>Кучеренко Ирина Ильинична</td>\n",
       "      <td>Болтик Григорий Максимович</td>\n",
       "    </tr>\n",
       "    <tr>\n",
       "      <th>597</th>\n",
       "      <td>117280</td>\n",
       "      <td>Волынский Кирилл Федорович</td>\n",
       "      <td>Гайсумов Виктор Тимурович</td>\n",
       "    </tr>\n",
       "    <tr>\n",
       "      <th>598</th>\n",
       "      <td>117280</td>\n",
       "      <td>Уточкин Евгений Анатольевич</td>\n",
       "      <td>Каганович Лилия Петровна</td>\n",
       "    </tr>\n",
       "    <tr>\n",
       "      <th>899</th>\n",
       "      <td>177407</td>\n",
       "      <td>Зелинский Геннадий Артурович</td>\n",
       "      <td>Зазорин Вадим Аркадьевич</td>\n",
       "    </tr>\n",
       "    <tr>\n",
       "      <th>900</th>\n",
       "      <td>177407</td>\n",
       "      <td>Бужанинов Руслан Артурович</td>\n",
       "      <td>Сороковой Герман Маратович</td>\n",
       "    </tr>\n",
       "    <tr>\n",
       "      <th>1798</th>\n",
       "      <td>358194</td>\n",
       "      <td>Ноева Галина Степановна</td>\n",
       "      <td>Серпухова Алла Ярославовна</td>\n",
       "    </tr>\n",
       "    <tr>\n",
       "      <th>1799</th>\n",
       "      <td>358194</td>\n",
       "      <td>Долгих Лилия Вадимовна</td>\n",
       "      <td>Брусенцова Дарья Михаиловна</td>\n",
       "    </tr>\n",
       "  </tbody>\n",
       "</table>\n",
       "</div>"
      ],
      "text/plain": [
       "      eventID                      Person_1                        Person_2\n",
       "366     70049       Яшина Полина Евгеньевна  Герасимовская Ксения Дамировна\n",
       "367     70049     Федова Анжелика Вадимовна    Вальдовский Альберт Ефимович\n",
       "486     92995      Журик Альберт Евгеньевич      Бадьянова Римма Максимовна\n",
       "487     92995     Кучеренко Ирина Ильинична      Болтик Григорий Максимович\n",
       "597    117280    Волынский Кирилл Федорович       Гайсумов Виктор Тимурович\n",
       "598    117280   Уточкин Евгений Анатольевич        Каганович Лилия Петровна\n",
       "899    177407  Зелинский Геннадий Артурович        Зазорин Вадим Аркадьевич\n",
       "900    177407    Бужанинов Руслан Артурович      Сороковой Герман Маратович\n",
       "1798   358194       Ноева Галина Степановна      Серпухова Алла Ярославовна\n",
       "1799   358194        Долгих Лилия Вадимовна     Брусенцова Дарья Михаиловна"
      ]
     },
     "execution_count": 69,
     "metadata": {},
     "output_type": "execute_result"
    }
   ],
   "source": [
    "dupl_rows = data.duplicated(subset=['eventID'], keep=False)\n",
    "indexes = []\n",
    "for index, row in enumerate(dupl_rows):\n",
    "    if row == True:\n",
    "        indexes.append(index)\n",
    "data.loc[indexes].head(10)"
   ]
  },
  {
   "cell_type": "code",
   "execution_count": 70,
   "id": "7418672d",
   "metadata": {},
   "outputs": [
    {
     "data": {
      "text/plain": [
       "76"
      ]
     },
     "execution_count": 70,
     "metadata": {},
     "output_type": "execute_result"
    }
   ],
   "source": [
    "data.duplicated(subset=['Person_1'], keep=False).sum()"
   ]
  },
  {
   "cell_type": "code",
   "execution_count": 71,
   "id": "a0c57d41",
   "metadata": {},
   "outputs": [
    {
     "data": {
      "text/html": [
       "<div>\n",
       "<style scoped>\n",
       "    .dataframe tbody tr th:only-of-type {\n",
       "        vertical-align: middle;\n",
       "    }\n",
       "\n",
       "    .dataframe tbody tr th {\n",
       "        vertical-align: top;\n",
       "    }\n",
       "\n",
       "    .dataframe thead th {\n",
       "        text-align: right;\n",
       "    }\n",
       "</style>\n",
       "<table border=\"1\" class=\"dataframe\">\n",
       "  <thead>\n",
       "    <tr style=\"text-align: right;\">\n",
       "      <th></th>\n",
       "      <th>eventID</th>\n",
       "      <th>Person_1</th>\n",
       "      <th>Person_2</th>\n",
       "    </tr>\n",
       "  </thead>\n",
       "  <tbody>\n",
       "    <tr>\n",
       "      <th>221</th>\n",
       "      <td>42389</td>\n",
       "      <td>Ахромеева Алина Ивановна</td>\n",
       "      <td>Ящукова Любовь Ефимовна</td>\n",
       "    </tr>\n",
       "    <tr>\n",
       "      <th>275</th>\n",
       "      <td>53707</td>\n",
       "      <td>Ахромеева Алина Ивановна</td>\n",
       "      <td>Тяжлов Ринат Владиславович</td>\n",
       "    </tr>\n",
       "    <tr>\n",
       "      <th>308</th>\n",
       "      <td>59801</td>\n",
       "      <td>Ахромеева Алина Ивановна</td>\n",
       "      <td>Соломеина Кристина Георгиевна</td>\n",
       "    </tr>\n",
       "    <tr>\n",
       "      <th>320</th>\n",
       "      <td>61824</td>\n",
       "      <td>Ахромеева Алина Ивановна</td>\n",
       "      <td>Дудыкина Мария Романовна</td>\n",
       "    </tr>\n",
       "    <tr>\n",
       "      <th>344</th>\n",
       "      <td>66267</td>\n",
       "      <td>Башнина Антонина Глебовна</td>\n",
       "      <td>Павлючиков Максим Филиппович</td>\n",
       "    </tr>\n",
       "    <tr>\n",
       "      <th>471</th>\n",
       "      <td>89429</td>\n",
       "      <td>Ахромеева Алина Ивановна</td>\n",
       "      <td>Щенников Дмитрий Григорьевич</td>\n",
       "    </tr>\n",
       "    <tr>\n",
       "      <th>476</th>\n",
       "      <td>90615</td>\n",
       "      <td>Ахромеева Алина Ивановна</td>\n",
       "      <td>Камчадалов Артем Ярославович</td>\n",
       "    </tr>\n",
       "    <tr>\n",
       "      <th>508</th>\n",
       "      <td>99439</td>\n",
       "      <td>Пафомова Кира Вадимовна</td>\n",
       "      <td>Ляуданский Валентин Владиславович</td>\n",
       "    </tr>\n",
       "    <tr>\n",
       "      <th>642</th>\n",
       "      <td>128413</td>\n",
       "      <td>Ахромеева Алина Ивановна</td>\n",
       "      <td>Сайденов Иван Валерьевич</td>\n",
       "    </tr>\n",
       "    <tr>\n",
       "      <th>667</th>\n",
       "      <td>132775</td>\n",
       "      <td>Зимнухова Карина Даниловна</td>\n",
       "      <td>Леканова Тамара Ивановна</td>\n",
       "    </tr>\n",
       "  </tbody>\n",
       "</table>\n",
       "</div>"
      ],
      "text/plain": [
       "     eventID                    Person_1                           Person_2\n",
       "221    42389    Ахромеева Алина Ивановна            Ящукова Любовь Ефимовна\n",
       "275    53707    Ахромеева Алина Ивановна         Тяжлов Ринат Владиславович\n",
       "308    59801    Ахромеева Алина Ивановна      Соломеина Кристина Георгиевна\n",
       "320    61824    Ахромеева Алина Ивановна           Дудыкина Мария Романовна\n",
       "344    66267   Башнина Антонина Глебовна       Павлючиков Максим Филиппович\n",
       "471    89429    Ахромеева Алина Ивановна       Щенников Дмитрий Григорьевич\n",
       "476    90615    Ахромеева Алина Ивановна       Камчадалов Артем Ярославович\n",
       "508    99439     Пафомова Кира Вадимовна  Ляуданский Валентин Владиславович\n",
       "642   128413    Ахромеева Алина Ивановна           Сайденов Иван Валерьевич\n",
       "667   132775  Зимнухова Карина Даниловна           Леканова Тамара Ивановна"
      ]
     },
     "execution_count": 71,
     "metadata": {},
     "output_type": "execute_result"
    }
   ],
   "source": [
    "dupl_rows = data.duplicated(subset=['Person_1'], keep=False)\n",
    "indexes = []\n",
    "for index, row in enumerate(dupl_rows):\n",
    "    if row == True:\n",
    "        indexes.append(index)\n",
    "data.loc[indexes].head(10)"
   ]
  },
  {
   "cell_type": "code",
   "execution_count": 72,
   "id": "7fa262a9",
   "metadata": {},
   "outputs": [
    {
     "data": {
      "text/plain": [
       "9"
      ]
     },
     "execution_count": 72,
     "metadata": {},
     "output_type": "execute_result"
    }
   ],
   "source": [
    "data.duplicated(subset=['Person_2'], keep=False).sum()"
   ]
  },
  {
   "cell_type": "code",
   "execution_count": 73,
   "id": "193c59cd",
   "metadata": {},
   "outputs": [
    {
     "data": {
      "text/html": [
       "<div>\n",
       "<style scoped>\n",
       "    .dataframe tbody tr th:only-of-type {\n",
       "        vertical-align: middle;\n",
       "    }\n",
       "\n",
       "    .dataframe tbody tr th {\n",
       "        vertical-align: top;\n",
       "    }\n",
       "\n",
       "    .dataframe thead th {\n",
       "        text-align: right;\n",
       "    }\n",
       "</style>\n",
       "<table border=\"1\" class=\"dataframe\">\n",
       "  <thead>\n",
       "    <tr style=\"text-align: right;\">\n",
       "      <th></th>\n",
       "      <th>eventID</th>\n",
       "      <th>Person_1</th>\n",
       "      <th>Person_2</th>\n",
       "    </tr>\n",
       "  </thead>\n",
       "  <tbody>\n",
       "    <tr>\n",
       "      <th>453</th>\n",
       "      <td>87253</td>\n",
       "      <td>Кондратьев Борис Германович</td>\n",
       "      <td>Медведева Дарья Алексеевна</td>\n",
       "    </tr>\n",
       "    <tr>\n",
       "      <th>552</th>\n",
       "      <td>109281</td>\n",
       "      <td>Безгачий Денис Ефимович</td>\n",
       "      <td>Медведева Дарья Алексеевна</td>\n",
       "    </tr>\n",
       "    <tr>\n",
       "      <th>989</th>\n",
       "      <td>196243</td>\n",
       "      <td>Помыкалова Тамара Федоровна</td>\n",
       "      <td>Медведева Дарья Алексеевна</td>\n",
       "    </tr>\n",
       "    <tr>\n",
       "      <th>1109</th>\n",
       "      <td>218462</td>\n",
       "      <td>Шолохов Игорь Робертович</td>\n",
       "      <td>Двигубская Валентина Геннадьевна</td>\n",
       "    </tr>\n",
       "    <tr>\n",
       "      <th>1631</th>\n",
       "      <td>327044</td>\n",
       "      <td>Дуброва Анжелика Григорьевна</td>\n",
       "      <td>Медведева Дарья Алексеевна</td>\n",
       "    </tr>\n",
       "    <tr>\n",
       "      <th>2882</th>\n",
       "      <td>580478</td>\n",
       "      <td>Пчелинцев Артур Глебович</td>\n",
       "      <td>Медведева Дарья Алексеевна</td>\n",
       "    </tr>\n",
       "    <tr>\n",
       "      <th>3760</th>\n",
       "      <td>750824</td>\n",
       "      <td>Торгунаков Роман Кириллович</td>\n",
       "      <td>Шолохов Игорь Робертович</td>\n",
       "    </tr>\n",
       "    <tr>\n",
       "      <th>4012</th>\n",
       "      <td>798803</td>\n",
       "      <td>Дорожкин Анатолий Егорович</td>\n",
       "      <td>Двигубская Валентина Геннадьевна</td>\n",
       "    </tr>\n",
       "    <tr>\n",
       "      <th>4169</th>\n",
       "      <td>829652</td>\n",
       "      <td>Пафомова Кира Вадимовна</td>\n",
       "      <td>Шолохов Игорь Робертович</td>\n",
       "    </tr>\n",
       "  </tbody>\n",
       "</table>\n",
       "</div>"
      ],
      "text/plain": [
       "      eventID                      Person_1                          Person_2\n",
       "453     87253   Кондратьев Борис Германович        Медведева Дарья Алексеевна\n",
       "552    109281       Безгачий Денис Ефимович        Медведева Дарья Алексеевна\n",
       "989    196243   Помыкалова Тамара Федоровна        Медведева Дарья Алексеевна\n",
       "1109   218462      Шолохов Игорь Робертович  Двигубская Валентина Геннадьевна\n",
       "1631   327044  Дуброва Анжелика Григорьевна        Медведева Дарья Алексеевна\n",
       "2882   580478      Пчелинцев Артур Глебович        Медведева Дарья Алексеевна\n",
       "3760   750824   Торгунаков Роман Кириллович          Шолохов Игорь Робертович\n",
       "4012   798803    Дорожкин Анатолий Егорович  Двигубская Валентина Геннадьевна\n",
       "4169   829652       Пафомова Кира Вадимовна          Шолохов Игорь Робертович"
      ]
     },
     "execution_count": 73,
     "metadata": {},
     "output_type": "execute_result"
    }
   ],
   "source": [
    "dupl_rows = data.duplicated(subset=['Person_2'], keep=False)\n",
    "indexes = []\n",
    "for index, row in enumerate(dupl_rows):\n",
    "    if row == True:\n",
    "        indexes.append(index)\n",
    "data.loc[indexes].head(10)"
   ]
  },
  {
   "cell_type": "code",
   "execution_count": 76,
   "id": "621c0890",
   "metadata": {},
   "outputs": [
    {
     "data": {
      "text/plain": [
       "0"
      ]
     },
     "execution_count": 76,
     "metadata": {},
     "output_type": "execute_result"
    }
   ],
   "source": [
    "data.duplicated(subset=['Person_1', 'Person_2'], keep=False).sum()"
   ]
  },
  {
   "cell_type": "code",
   "execution_count": null,
   "id": "b2cb1226",
   "metadata": {},
   "outputs": [],
   "source": []
  }
 ],
 "metadata": {
  "kernelspec": {
   "display_name": "Python 3 (ipykernel)",
   "language": "python",
   "name": "python3"
  },
  "language_info": {
   "codemirror_mode": {
    "name": "ipython",
    "version": 3
   },
   "file_extension": ".py",
   "mimetype": "text/x-python",
   "name": "python",
   "nbconvert_exporter": "python",
   "pygments_lexer": "ipython3",
   "version": "3.10.9"
  }
 },
 "nbformat": 4,
 "nbformat_minor": 5
}
